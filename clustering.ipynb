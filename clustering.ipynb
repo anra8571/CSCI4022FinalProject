{
 "cells": [
  {
   "cell_type": "code",
   "execution_count": 1,
   "metadata": {},
   "outputs": [],
   "source": [
    "import numpy as np\n",
    "import pandas as pd\n",
    "import matplotlib.pyplot as plt"
   ]
  },
  {
   "cell_type": "code",
   "execution_count": 7,
   "metadata": {},
   "outputs": [
    {
     "name": "stdout",
     "output_type": "stream",
     "text": [
      "[[[ 0.00241223  0.0011588  -0.00137351]\n",
      "  [ 0.00145174  0.00065382 -0.00076341]\n",
      "  [ 0.00519325  0.00315593 -0.00166335]\n",
      "  ...\n",
      "  [ 0.00333457  0.00166071  0.00015448]\n",
      "  [ 0.00138986 -0.0015858  -0.00468504]\n",
      "  [-0.00300012 -0.00355646 -0.00259698]]\n",
      "\n",
      " [[-0.00108342 -0.00327659 -0.00396509]\n",
      "  [-0.00859949 -0.0061972   0.00371526]\n",
      "  [-0.00110113 -0.00077158  0.00191285]\n",
      "  ...\n",
      "  [ 0.00194651  0.00171701  0.00696051]\n",
      "  [ 0.01625061  0.01878575  0.00357905]\n",
      "  [ 0.00999151  0.0132818   0.0040159 ]]\n",
      "\n",
      " [[-0.00076389 -0.00113118 -0.00147295]\n",
      "  [-0.00024438  0.01957563  0.03972196]\n",
      "  [ 0.00481468 -0.00021434 -0.0017938 ]\n",
      "  ...\n",
      "  [-0.00152644 -0.00047362 -0.00109185]\n",
      "  [-0.00221805 -0.00285323 -0.00421636]\n",
      "  [-0.00524823  0.00010533 -0.0004616 ]]\n",
      "\n",
      " ...\n",
      "\n",
      " [[ 0.00085082  0.00431951  0.00497545]\n",
      "  [ 0.00154957  0.00746835  0.01016327]\n",
      "  [ 0.0016571   0.01267225  0.019301  ]\n",
      "  ...\n",
      "  [ 0.00121517  0.00263753  0.00183826]\n",
      "  [-0.00043742 -0.00092035 -0.00367909]\n",
      "  [ 0.00016793 -0.00020577 -0.00388276]]\n",
      "\n",
      " [[ 0.00592494  0.00913705 -0.00323556]\n",
      "  [ 0.00013306  0.00524144 -0.00011184]\n",
      "  [ 0.00510932  0.00781346  0.00038904]\n",
      "  ...\n",
      "  [ 0.00525287  0.00246931  0.00862511]\n",
      "  [ 0.01532189  0.00854208  0.00422292]\n",
      "  [ 0.01195357  0.01473137  0.00354691]]\n",
      "\n",
      " [[-0.00160853 -0.00025036 -0.00082392]\n",
      "  [-0.00300472 -0.00187727 -0.03999032]\n",
      "  [-0.03592863 -0.00024612 -0.00051766]\n",
      "  ...\n",
      "  [ 0.00447127  0.00253039  0.00101707]\n",
      "  [ 0.00059417 -0.00341937  0.01073687]\n",
      "  [ 0.01550595  0.00185169  0.00176375]]]\n"
     ]
    }
   ],
   "source": [
    "df = np.load(\"Data/4.np\")\n",
    "print(df)"
   ]
  },
  {
   "cell_type": "code",
   "execution_count": 8,
   "metadata": {},
   "outputs": [],
   "source": [
    "def distance(poke1, poke2):\n",
    "    return np.sqrt(np.sum((poke1 - poke2)**2))\n",
    "\n",
    "def kmeans(df, k=4, tol=0.05):\n",
    "    \"\"\"\n",
    "    Usage: input \n",
    "        df=3D numpy array with shape (75, 40, 3),\n",
    "        k=number of clusters,\n",
    "        tol=tolerance for L_2 convergence check on centroids\n",
    "    \"\"\"    \n",
    "    # Initialize reconstruction error for 1st iteration\n",
    "    prev_rec_error = np.inf\n",
    "    \n",
    "    # Random centroids from data\n",
    "    clocs = np.random.choice(df.shape[0], size=k, replace=False)\n",
    "    centroids = df[clocs, :, :]\n",
    "    \n",
    "    # Initialize objects for points-cluster dists, cluster assignments.\n",
    "    dists = np.zeros((k, df.shape[0]))\n",
    "    clusters = np.array([-1] * df.shape[0])\n",
    "    \n",
    "    # Index/convergence trackers\n",
    "    ii = 0\n",
    "    Done = False\n",
    "    while not Done:\n",
    "        # Update classifications\n",
    "        for ji in range(k):\n",
    "            for pi in range(df.shape[0]):\n",
    "                dists[ji, pi] = distance(df[pi, :, :], centroids[ji, :, :])\n",
    "        \n",
    "        clusters = dists.argmin(axis=0)\n",
    "        \n",
    "        for ji in range(k):\n",
    "            if np.sum(clusters == ji) == 0:\n",
    "                centroids[ji, :, :] = 0  # handle case with no points in cluster\n",
    "            else:\n",
    "                centroids[ji, :, :] = np.mean(df[clusters == ji], axis=0)\n",
    "        \n",
    "        # Calculate Reconstruction Error    \n",
    "        rec_error = np.sum(np.min(dists, axis=0)**2) / df.shape[0]\n",
    "        \n",
    "        # Convergence check\n",
    "        change_in_error = np.abs(prev_rec_error - rec_error)\n",
    "        if change_in_error < tol:\n",
    "            print(f'Done at iteration {ii} with change of {change_in_error}')\n",
    "            Done = True\n",
    "        elif ii == 50:\n",
    "            print('No convergence in 50 steps')\n",
    "            Done = True\n",
    "        \n",
    "        prev_rec_error = rec_error\n",
    "        ii += 1\n",
    "    \n",
    "    return centroids, clusters, rec_error"
   ]
  },
  {
   "cell_type": "code",
   "execution_count": 14,
   "metadata": {},
   "outputs": [
    {
     "name": "stdout",
     "output_type": "stream",
     "text": [
      "Done at iteration 1 with change of 0.0012754069900872916\n",
      "Final mean error: 0.0019307215914748106\n"
     ]
    },
    {
     "data": {
      "text/plain": [
       "<matplotlib.collections.PathCollection at 0x20df786a4d0>"
      ]
     },
     "execution_count": 14,
     "metadata": {},
     "output_type": "execute_result"
    },
    {
     "data": {
      "image/png": "[encoded data removed]",
      "text/plain": [
       "<Figure size 640x480 with 1 Axes>"
      ]
     },
     "metadata": {},
     "output_type": "display_data"
    }
   ],
   "source": [
    "centroids, clusters, meanerror=kmeans(df, k=4)\n",
    "print('Final mean error:', meanerror)\n",
    "plt.scatter(df[1], df[2], c='r')"
   ]
  }
 ],
 "metadata": {
  "kernelspec": {
   "display_name": "Python 3",
   "language": "python",
   "name": "python3"
  },
  "language_info": {
   "codemirror_mode": {
    "name": "ipython",
    "version": 3
   },
   "file_extension": ".py",
   "mimetype": "text/x-python",
   "name": "python",
   "nbconvert_exporter": "python",
   "pygments_lexer": "ipython3",
   "version": "3.10.11"
  }
 },
 "nbformat": 4,
 "nbformat_minor": 2
}
