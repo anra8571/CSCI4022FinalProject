{
 "cells": [
  {
   "cell_type": "code",
   "execution_count": 9,
   "metadata": {},
   "outputs": [],
   "source": [
    "import numpy as np\n",
    "import pandas as pd\n",
    "import matplotlib.pyplot as plt\n",
    "from sklearn.decomposition import PCA"
   ]
  },
  {
   "cell_type": "code",
   "execution_count": 10,
   "metadata": {},
   "outputs": [
    {
     "name": "stdout",
     "output_type": "stream",
     "text": [
      "Size:  9000\n",
      "[ 0.00241223  0.0011588  -0.00137351]\n",
      "[ 0.00145174  0.00065382 -0.00076341]\n",
      "[ 0.00519325  0.00315593 -0.00166335]\n",
      "[-0.00088966 -0.0005272  -0.00076389]\n",
      "[0.00164122 0.00226265 0.00379152]\n",
      "[-0.00133688 -0.00231209 -0.00466555]\n"
     ]
    }
   ],
   "source": [
    "df = np.load(\"Data/04_fv.np\")\n",
    "print(\"Size: \", df.size)\n",
    "# print(df)\n",
    "\n",
    "# Reverse the indexes and subtract all by 1 (Python is 0-indexed and MATLAB is 1-indexed)\n",
    "# The features and channels dimensions are converted correctly\n",
    "print(df[0, 0, :]) # [0.0024, 0.0012, 0.0014] (all features, channel 1, trial 1)\n",
    "print(df[0, 1, :]) # [0.0015, 0.0007, -0.0008] (all features, channel 2, trial 1)\n",
    "print(df[0, 2, :]) # [0.0052, 0.0032, -0.0017] (all features, channel 3, trial 1)\n",
    "print(df[0, 26, :]) # [-.0008897, -0.5272, -0.7639] (all features, channel 27, trial 1)\n",
    "\n",
    "# For some reason, I believe the trials are out of order\n",
    "print(df[1, 0, :]) # [0.0016, 0.0023, 0.0038] INCORRECT for trial 2\n",
    "print(df[2, 0, :]) # [-0.0013, -0.0023, -0.0047] INCORRECT for trial 3"
   ]
  },
  {
   "cell_type": "code",
   "execution_count": 11,
   "metadata": {},
   "outputs": [],
   "source": [
    "def distance(slice1, slice2):\n",
    "    \"\"\"\n",
    "    Calculate the Euclidean distance between two 3D slices (40, 3) from a (75, 40, 3) array.\n",
    "    \"\"\"\n",
    "    return np.sqrt(np.sum((slice1 - slice2)**2))\n",
    "\n",
    "def kmeans(df, k=4, tol=0.05):\n",
    "    \"\"\"\n",
    "    K-means clustering for 3D data.\n",
    "\n",
    "    Parameters:\n",
    "        df (numpy.ndarray): 3D numpy array with shape (75, 40, 3), each slice (40, 3) treated as a point.\n",
    "        k (int): Number of clusters.\n",
    "        tol (float): Tolerance for L_2 convergence check on centroids.\n",
    "\n",
    "    Returns:\n",
    "        centroids (numpy.ndarray): Array of centroids, one for each cluster.\n",
    "        clusters (numpy.ndarray): Cluster assignment for each point.\n",
    "        rec_error (float): Reconstruction error on final iteration.\n",
    "    \"\"\"    \n",
    "    # Initialize reconstruction error for 1st iteration\n",
    "    prev_rec_error = np.inf\n",
    "    \n",
    "    # Random centroids from data\n",
    "    clocs = np.random.choice(df.shape[0], size=k, replace=False)\n",
    "    centroids = df[clocs, :, :].copy()\n",
    "    \n",
    "    # Initialize objects for points-cluster distances and cluster assignments.\n",
    "    dists = np.zeros((k, df.shape[0]))\n",
    "    clusters = np.array([-1] * df.shape[0])\n",
    "    \n",
    "    # Index and convergence trackers\n",
    "    ii = 0\n",
    "    Done = False\n",
    "    while not Done:\n",
    "        # Update classifications\n",
    "        for ji in range(k):\n",
    "            for pi in range(df.shape[0]):\n",
    "                dists[ji, pi] = distance(df[pi, :, :], centroids[ji, :, :])\n",
    "        \n",
    "        clusters = dists.argmin(axis=0)\n",
    "        \n",
    "        # Update centroids\n",
    "        for ji in range(k):\n",
    "            if np.sum(clusters == ji) > 0:\n",
    "                centroids[ji, :, :] = np.mean(df[clusters == ji], axis=0)\n",
    "            else:\n",
    "                # Reinitialize centroid if no points are assigned to prevent empty clusters\n",
    "                centroids[ji, :, :] = df[np.random.choice(df.shape[0], size=1), :, :]\n",
    "\n",
    "        # Calculate Reconstruction Error    \n",
    "        rec_error = np.sum(np.min(dists, axis=0)**2) / df.shape[0]\n",
    "        \n",
    "        # Convergence check\n",
    "        change_in_error = np.abs(prev_rec_error - rec_error)\n",
    "        if change_in_error < tol:\n",
    "            print(f'Done at iteration {ii} with change of {change_in_error}')\n",
    "            Done = True\n",
    "        elif ii == 50:\n",
    "            print('No convergence in 50 steps')\n",
    "            Done = True\n",
    "        \n",
    "        prev_rec_error = rec_error\n",
    "        ii += 1\n",
    "    \n",
    "    return centroids, clusters, rec_error"
   ]
  },
  {
   "cell_type": "code",
   "execution_count": 12,
   "metadata": {},
   "outputs": [
    {
     "name": "stdout",
     "output_type": "stream",
     "text": [
      "Done at iteration 1 with change of 0.0005295649236366534\n",
      "Final mean error: 0.0015411218048231256\n",
      "[1 2 3 1 1 2 1 2 1 2 2 3 3 1 1 1 3 2 3 1 1 3 3 3 2 1 1 3 1 2 3 2 2 2 1 3 1\n",
      " 1 2 1 2 1 1 3 1 1 0 1 1 2 1 1 1 3 2 1 2 1 1 3 1 1 1 2 3 1 1 1 1 1 3 2 2 1\n",
      " 3]\n"
     ]
    }
   ],
   "source": [
    "centroids, clusters, meanerror=kmeans(df, k=3)\n",
    "print('Final mean error:', meanerror)\n",
    "print(clusters)\n",
    "# plt.scatter(df[0:75], df[0:75],c=clusters)"
   ]
  },
  {
   "cell_type": "code",
   "execution_count": 13,
   "metadata": {},
   "outputs": [
    {
     "name": "stdout",
     "output_type": "stream",
     "text": [
      "Ground Truth:  [1 2 3 1 3 2 2 3 1 1 2 3 3 2 1 2 3 1 2 2 1 3 3 2 1 2 3 1 2 1 3 3 1 2 2 3 1\n",
      " 1 3 2 3 1 2 3 3 2 1 1 3 2 3 1 2 3 2 1 1 2 3 3 1 2 2 1 3 1 2 3 1 1 3 2 2 1\n",
      " 3]\n",
      "Clustering Accuracy:  0.5066666666666667\n"
     ]
    }
   ],
   "source": [
    "# Loading ground truth\n",
    "import scipy.io as sp\n",
    "ground_truth_struct = sp.loadmat('Data/04_labels.mat')\n",
    "# print(ground_truth_struct['Y'])\n",
    "\n",
    "gt = []\n",
    "for elem in ground_truth_struct['Y']:\n",
    "    gt.append(elem[0])\n",
    "\n",
    "gt_np = np.array(gt)\n",
    "print(\"Ground Truth: \", gt_np)\n",
    "\n",
    "correct = 0\n",
    "for i in range(len(gt_np)):\n",
    "    if gt_np[i] == clusters[i]:\n",
    "        correct += 1\n",
    "print(\"Clustering Accuracy: \", correct/len(gt_np))"
   ]
  }
 ],
 "metadata": {
  "kernelspec": {
   "display_name": "Python 3",
   "language": "python",
   "name": "python3"
  },
  "language_info": {
   "codemirror_mode": {
    "name": "ipython",
    "version": 3
   },
   "file_extension": ".py",
   "mimetype": "text/x-python",
   "name": "python",
   "nbconvert_exporter": "python",
   "pygments_lexer": "ipython3",
   "version": "3.9.13"
  }
 },
 "nbformat": 4,
 "nbformat_minor": 2
}
